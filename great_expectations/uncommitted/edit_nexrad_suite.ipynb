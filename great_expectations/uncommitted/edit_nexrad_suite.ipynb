{
 "cells": [
  {
   "cell_type": "markdown",
   "id": "c0ca53c5",
   "metadata": {},
   "source": [
    "# Edit Your Expectation Suite\n",
    "Use this notebook to recreate and modify your expectation suite:\n",
    "\n",
    "**Expectation Suite Name**: `nexrad_suite`\n"
   ]
  },
  {
   "cell_type": "code",
   "execution_count": 1,
   "id": "de9fea7e",
   "metadata": {},
   "outputs": [
    {
     "name": "stderr",
     "output_type": "stream",
     "text": [
      "/Users/srivenkatasatyaakhilmalladi/opt/anaconda3/lib/python3.9/inspect.py:351: FutureWarning: pandas.Float64Index is deprecated and will be removed from pandas in a future version. Use pandas.Index with the appropriate dtype instead.\n",
      "  value = getattr(object, key)\n",
      "/Users/srivenkatasatyaakhilmalladi/opt/anaconda3/lib/python3.9/inspect.py:351: FutureWarning: pandas.Int64Index is deprecated and will be removed from pandas in a future version. Use pandas.Index with the appropriate dtype instead.\n",
      "  value = getattr(object, key)\n",
      "/Users/srivenkatasatyaakhilmalladi/opt/anaconda3/lib/python3.9/inspect.py:351: FutureWarning: pandas.UInt64Index is deprecated and will be removed from pandas in a future version. Use pandas.Index with the appropriate dtype instead.\n",
      "  value = getattr(object, key)\n"
     ]
    },
    {
     "name": "stdout",
     "output_type": "stream",
     "text": [
      "2023-02-09T21:59:19-0500 - INFO - Great Expectations logging enabled at 20 level by JupyterUX module.\n",
      "2023-02-09T21:59:19-0500 - INFO - FileDataContext loading zep config\n",
      "2023-02-09T21:59:19-0500 - INFO - GxConfig.parse_yaml() failed with errors - [{'loc': ('xdatasources',), 'msg': 'field required', 'type': 'value_error.missing'}]\n",
      "2023-02-09T21:59:19-0500 - INFO - GxConfig.parse_yaml() returning empty `xdatasources`\n",
      "2023-02-09T21:59:19-0500 - INFO - Loading 'datasources' ->\n",
      "{}\n",
      "2023-02-09T21:59:19-0500 - INFO - Loaded 'datasources' ->\n",
      "{}\n",
      "Loaded ExpectationSuite \"nexrad_suite\" containing 5 expectations.\n"
     ]
    }
   ],
   "source": [
    "import datetime\n",
    "\n",
    "import pandas as pd\n",
    "\n",
    "import great_expectations as gx\n",
    "import great_expectations.jupyter_ux\n",
    "from great_expectations.core.expectation_configuration import ExpectationConfiguration\n",
    "from great_expectations.data_context.types.resource_identifiers import (\n",
    "    ExpectationSuiteIdentifier,\n",
    ")\n",
    "from great_expectations.exceptions import DataContextError\n",
    "\n",
    "context = gx.get_context()\n",
    "\n",
    "\n",
    "# Feel free to change the name of your suite here. Renaming this will not remove the other one.\n",
    "expectation_suite_name = \"nexrad_suite\"\n",
    "try:\n",
    "    suite = context.get_expectation_suite(expectation_suite_name=expectation_suite_name)\n",
    "    print(\n",
    "        f'Loaded ExpectationSuite \"{suite.expectation_suite_name}\" containing {len(suite.expectations)} expectations.'\n",
    "    )\n",
    "except DataContextError:\n",
    "    suite = context.create_expectation_suite(\n",
    "        expectation_suite_name=expectation_suite_name\n",
    "    )\n",
    "    print(f'Created ExpectationSuite \"{suite.expectation_suite_name}\".')"
   ]
  },
  {
   "cell_type": "markdown",
   "id": "679453f5",
   "metadata": {},
   "source": [
    "## Create & Edit Expectations\n",
    "\n",
    "\n",
    "You are adding Expectation configurations to the suite. Since you selected manual mode, there is no sample batch of data and no validation happens during this process. See our documentation for more info and examples: **[How to create a new Expectation Suite without a sample batch](https://docs.greatexpectations.io/docs/guides/expectations/how_to_create_and_edit_expectations_based_on_domain_knowledge_without_inspecting_data_directly)**.\n",
    "\n",
    "Note that if you do use interactive mode you may specify a sample batch of data to use when creating your Expectation Suite. You can then use a `validator` to get immediate feedback on your Expectations against your specified sample batch.\n",
    "\n",
    "\n",
    "You can see all the available expectations in the **[expectation gallery](https://greatexpectations.io/expectations)**."
   ]
  },
  {
   "cell_type": "markdown",
   "id": "3e99128b",
   "metadata": {},
   "source": [
    "### Table Expectation(s)"
   ]
  },
  {
   "cell_type": "code",
   "execution_count": 2,
   "id": "8bceb1f9",
   "metadata": {},
   "outputs": [
    {
     "data": {
      "text/plain": [
       "{\"expectation_type\": \"expect_table_row_count_to_be_between\", \"kwargs\": {\"max_value\": 100000, \"min_value\": 0}, \"meta\": {\"profiler_details\": {\"metric_configuration\": {\"domain_kwargs\": {}, \"metric_name\": \"table.row_count\", \"metric_value_kwargs\": null}, \"num_batches\": 1}}}"
      ]
     },
     "execution_count": 2,
     "metadata": {},
     "output_type": "execute_result"
    }
   ],
   "source": [
    "expectation_configuration = ExpectationConfiguration(\n",
    "    **{\n",
    "        \"kwargs\": {\"max_value\": 100000, \"min_value\": 0},\n",
    "        \"expectation_type\": \"expect_table_row_count_to_be_between\",\n",
    "        \"meta\": {\n",
    "            \"profiler_details\": {\n",
    "                \"metric_configuration\": {\n",
    "                    \"domain_kwargs\": {},\n",
    "                    \"metric_name\": \"table.row_count\",\n",
    "                    \"metric_value_kwargs\": None,\n",
    "                },\n",
    "                \"num_batches\": 1,\n",
    "            }\n",
    "        },\n",
    "    }\n",
    ")\n",
    "suite.add_expectation(expectation_configuration=expectation_configuration)"
   ]
  },
  {
   "cell_type": "code",
   "execution_count": 3,
   "id": "c8b6623f",
   "metadata": {},
   "outputs": [
    {
     "data": {
      "text/plain": [
       "{\"expectation_type\": \"expect_table_columns_to_match_set\", \"kwargs\": {\"column_set\": [\"Day\", \"Year\", \"NexRad Station Code\", \"ID\", \"Month\"]}, \"meta\": {\"profiler_details\": {\"success_ratio\": 1.0}}}"
      ]
     },
     "execution_count": 3,
     "metadata": {},
     "output_type": "execute_result"
    }
   ],
   "source": [
    "expectation_configuration = ExpectationConfiguration(\n",
    "    **{\n",
    "        \"kwargs\": {\"column_set\": [\"Day\", \"Year\", \"NexRad Station Code\", \"ID\", \"Month\"]},\n",
    "        \"expectation_type\": \"expect_table_columns_to_match_set\",\n",
    "        \"meta\": {\"profiler_details\": {\"success_ratio\": 1.0}},\n",
    "    }\n",
    ")\n",
    "suite.add_expectation(expectation_configuration=expectation_configuration)"
   ]
  },
  {
   "cell_type": "markdown",
   "id": "cb1323bd",
   "metadata": {},
   "source": [
    "### Column Expectation(s)"
   ]
  },
  {
   "cell_type": "markdown",
   "id": "6267d4ac",
   "metadata": {},
   "source": [
    "#### `Year`"
   ]
  },
  {
   "cell_type": "code",
   "execution_count": 4,
   "id": "3b5d4cbd",
   "metadata": {},
   "outputs": [
    {
     "data": {
      "text/plain": [
       "{\"expectation_type\": \"expect_column_max_to_be_between\", \"kwargs\": {\"column\": \"Year\", \"max_value\": 2023, \"min_value\": 2022, \"strict_max\": false, \"strict_min\": false}, \"meta\": {}}"
      ]
     },
     "execution_count": 4,
     "metadata": {},
     "output_type": "execute_result"
    }
   ],
   "source": [
    "expectation_configuration = ExpectationConfiguration(\n",
    "    **{\n",
    "        \"kwargs\": {\n",
    "            \"column\": \"Year\",\n",
    "            \"max_value\": 2023,\n",
    "            \"min_value\": 2022,\n",
    "            \"strict_max\": False,\n",
    "            \"strict_min\": False,\n",
    "        },\n",
    "        \"expectation_type\": \"expect_column_max_to_be_between\",\n",
    "        \"meta\": {},\n",
    "    }\n",
    ")\n",
    "suite.add_expectation(expectation_configuration=expectation_configuration)"
   ]
  },
  {
   "cell_type": "markdown",
   "id": "5da8ea46",
   "metadata": {},
   "source": [
    "#### `ID`"
   ]
  },
  {
   "cell_type": "code",
   "execution_count": 5,
   "id": "e769174a",
   "metadata": {},
   "outputs": [
    {
     "data": {
      "text/plain": [
       "{\"expectation_type\": \"expect_column_values_to_be_unique\", \"kwargs\": {\"column\": \"ID\"}, \"meta\": {\"profiler_details\": {\"metric_configuration\": {\"domain_kwargs\": {\"column\": \"index\"}, \"metric_name\": \"column_values.unique.unexpected_count\", \"metric_value_kwargs\": null}, \"num_batches\": 1}}}"
      ]
     },
     "execution_count": 5,
     "metadata": {},
     "output_type": "execute_result"
    }
   ],
   "source": [
    "expectation_configuration = ExpectationConfiguration(\n",
    "    **{\n",
    "        \"kwargs\": {\"column\": \"ID\"},\n",
    "        \"expectation_type\": \"expect_column_values_to_be_unique\",\n",
    "        \"meta\": {\n",
    "            \"profiler_details\": {\n",
    "                \"metric_configuration\": {\n",
    "                    \"domain_kwargs\": {\"column\": \"index\"},\n",
    "                    \"metric_name\": \"column_values.unique.unexpected_count\",\n",
    "                    \"metric_value_kwargs\": None,\n",
    "                },\n",
    "                \"num_batches\": 1,\n",
    "            }\n",
    "        },\n",
    "    }\n",
    ")\n",
    "suite.add_expectation(expectation_configuration=expectation_configuration)"
   ]
  },
  {
   "cell_type": "markdown",
   "id": "3ae72ea6",
   "metadata": {},
   "source": [
    "#### `NexRad Station Code`"
   ]
  },
  {
   "cell_type": "code",
   "execution_count": 6,
   "id": "53f747a9",
   "metadata": {},
   "outputs": [
    {
     "data": {
      "text/plain": [
       "{\"expectation_type\": \"expect_column_values_to_not_be_null\", \"kwargs\": {\"column\": \"NexRad Station Code\"}, \"meta\": {\"profiler_details\": {\"metric_configuration\": {\"domain_kwargs\": {\"column\": \"NexRad Station Code\"}, \"metric_name\": \"column_values.nonnull.unexpected_count\", \"metric_value_kwargs\": null}, \"num_batches\": 1}}}"
      ]
     },
     "execution_count": 6,
     "metadata": {},
     "output_type": "execute_result"
    }
   ],
   "source": [
    "expectation_configuration = ExpectationConfiguration(\n",
    "    **{\n",
    "        \"kwargs\": {\"column\": \"NexRad Station Code\"},\n",
    "        \"expectation_type\": \"expect_column_values_to_not_be_null\",\n",
    "        \"meta\": {\n",
    "            \"profiler_details\": {\n",
    "                \"metric_configuration\": {\n",
    "                    \"domain_kwargs\": {\"column\": \"NexRad Station Code\"},\n",
    "                    \"metric_name\": \"column_values.nonnull.unexpected_count\",\n",
    "                    \"metric_value_kwargs\": None,\n",
    "                },\n",
    "                \"num_batches\": 1,\n",
    "            }\n",
    "        },\n",
    "    }\n",
    ")\n",
    "suite.add_expectation(expectation_configuration=expectation_configuration)"
   ]
  },
  {
   "cell_type": "markdown",
   "id": "5439190d",
   "metadata": {},
   "source": [
    "## Review & Save Your Expectations\n",
    "\n",
    "Let's save the expectation suite as a JSON file in the `great_expectations/expectations` directory of your project.\n",
    "\n",
    "Let's now rebuild your Data Docs, which helps you communicate about your data with both machines and humans."
   ]
  },
  {
   "cell_type": "code",
   "execution_count": 7,
   "id": "ad3b6ec2",
   "metadata": {},
   "outputs": [
    {
     "name": "stdout",
     "output_type": "stream",
     "text": [
      "{\n",
      "  \"data_asset_type\": null,\n",
      "  \"ge_cloud_id\": null,\n",
      "  \"expectation_suite_name\": \"nexrad_suite\",\n",
      "  \"meta\": {\n",
      "    \"citations\": [\n",
      "      {\n",
      "        \"citation_date\": \"2023-02-10T02:38:27.878773Z\",\n",
      "        \"comment\": \"Created by effective Rule-Based Profiler of OnboardingDataAssistant with the configuration included.\\n\"\n",
      "      }\n",
      "    ],\n",
      "    \"great_expectations_version\": \"0.15.47\"\n",
      "  },\n",
      "  \"expectations\": [\n",
      "    {\n",
      "      \"expectation_type\": \"expect_table_row_count_to_be_between\",\n",
      "      \"kwargs\": {\n",
      "        \"max_value\": 100000,\n",
      "        \"min_value\": 0\n",
      "      },\n",
      "      \"meta\": {\n",
      "        \"profiler_details\": {\n",
      "          \"metric_configuration\": {\n",
      "            \"domain_kwargs\": {},\n",
      "            \"metric_name\": \"table.row_count\",\n",
      "            \"metric_value_kwargs\": null\n",
      "          },\n",
      "          \"num_batches\": 1\n",
      "        }\n",
      "      }\n",
      "    },\n",
      "    {\n",
      "      \"expectation_type\": \"expect_column_max_to_be_between\",\n",
      "      \"kwargs\": {\n",
      "        \"column\": \"Year\",\n",
      "        \"max_value\": 2023,\n",
      "        \"min_value\": 2022,\n",
      "        \"strict_max\": false,\n",
      "        \"strict_min\": false\n",
      "      },\n",
      "      \"meta\": {}\n",
      "    },\n",
      "    {\n",
      "      \"expectation_type\": \"expect_column_values_to_be_unique\",\n",
      "      \"kwargs\": {\n",
      "        \"column\": \"ID\"\n",
      "      },\n",
      "      \"meta\": {\n",
      "        \"profiler_details\": {\n",
      "          \"metric_configuration\": {\n",
      "            \"domain_kwargs\": {\n",
      "              \"column\": \"index\"\n",
      "            },\n",
      "            \"metric_name\": \"column_values.unique.unexpected_count\",\n",
      "            \"metric_value_kwargs\": null\n",
      "          },\n",
      "          \"num_batches\": 1\n",
      "        }\n",
      "      }\n",
      "    },\n",
      "    {\n",
      "      \"expectation_type\": \"expect_column_values_to_not_be_null\",\n",
      "      \"kwargs\": {\n",
      "        \"column\": \"NexRad Station Code\"\n",
      "      },\n",
      "      \"meta\": {\n",
      "        \"profiler_details\": {\n",
      "          \"metric_configuration\": {\n",
      "            \"domain_kwargs\": {\n",
      "              \"column\": \"NexRad Station Code\"\n",
      "            },\n",
      "            \"metric_name\": \"column_values.nonnull.unexpected_count\",\n",
      "            \"metric_value_kwargs\": null\n",
      "          },\n",
      "          \"num_batches\": 1\n",
      "        }\n",
      "      }\n",
      "    },\n",
      "    {\n",
      "      \"expectation_type\": \"expect_table_columns_to_match_set\",\n",
      "      \"kwargs\": {\n",
      "        \"column_set\": [\n",
      "          \"Day\",\n",
      "          \"Year\",\n",
      "          \"NexRad Station Code\",\n",
      "          \"ID\",\n",
      "          \"Month\"\n",
      "        ],\n",
      "        \"exact_match\": null\n",
      "      },\n",
      "      \"meta\": {\n",
      "        \"profiler_details\": {\n",
      "          \"success_ratio\": 1.0\n",
      "        }\n",
      "      }\n",
      "    }\n",
      "  ]\n",
      "}\n"
     ]
    }
   ],
   "source": [
    "print(context.get_expectation_suite(expectation_suite_name=expectation_suite_name))\n",
    "context.save_expectation_suite(expectation_suite=suite, expectation_suite_name=expectation_suite_name)\n",
    "\n",
    "suite_identifier = ExpectationSuiteIdentifier(expectation_suite_name=expectation_suite_name)\n",
    "context.build_data_docs(resource_identifiers=[suite_identifier])\n",
    "context.open_data_docs(resource_identifier=suite_identifier)"
   ]
  }
 ],
 "metadata": {
  "kernelspec": {
   "display_name": "Python 3 (ipykernel)",
   "language": "python",
   "name": "python3"
  },
  "language_info": {
   "codemirror_mode": {
    "name": "ipython",
    "version": 3
   },
   "file_extension": ".py",
   "mimetype": "text/x-python",
   "name": "python",
   "nbconvert_exporter": "python",
   "pygments_lexer": "ipython3",
   "version": "3.9.12"
  }
 },
 "nbformat": 4,
 "nbformat_minor": 5
}
